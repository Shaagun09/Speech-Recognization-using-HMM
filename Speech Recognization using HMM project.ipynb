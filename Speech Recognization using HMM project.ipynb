{
 "cells": [
  {
   "cell_type": "code",
   "execution_count": 1,
   "id": "8c02d73d",
   "metadata": {},
   "outputs": [],
   "source": [
    "import numpy as np\n",
    "import matplotlib.pyplot as plt\n",
    "from scipy.io import wavfile\n",
    "import os\n",
    "# !pip install hmmlearn\n",
    "# !pip install features\n",
    "from hmmlearn import hmm #importing GaussianHMM \n",
    "import librosa # reading wavefilesfrom librosa.feature import mfcc #to extract mfcc features\n",
    "from librosa.feature import mfcc"
   ]
  },
  {
   "cell_type": "code",
   "execution_count": 2,
   "id": "5ea1f800",
   "metadata": {},
   "outputs": [
    {
     "name": "stdout",
     "output_type": "stream",
     "text": [
      "apple\n",
      "kiwi\n",
      "lime\n",
      "banana\n",
      "pineapple\n",
      "orange\n",
      "peach\n"
     ]
    }
   ],
   "source": [
    "input_folder = 'hmm-speech-recognition-0.1/audio'\n",
    "for dirname in os.listdir(input_folder):\n",
    "    subfolder = os.path.join(input_folder, dirname)\n",
    "    label = subfolder[subfolder.rfind('/') + 1:]\n",
    "    print(label)"
   ]
  },
  {
   "cell_type": "code",
   "execution_count": 3,
   "id": "fa506e22",
   "metadata": {},
   "outputs": [],
   "source": [
    "class HMMTrainer(object):\n",
    "    def __init__(self, model_name='GaussianHMM', n_components=4):\n",
    "        self.model_name = model_name\n",
    "        self.n_components = n_components\n",
    "\n",
    "        self.models = []\n",
    "        if self.model_name == 'GaussianHMM':\n",
    "            self.model=hmm.GaussianHMM(n_components=4)\n",
    "        else:\n",
    "            print(\"Please choose GaussianHMM\")\n",
    "    def train(self, X):\n",
    "        self.models.append(self.model.fit(X))\n",
    "    def get_score(self, input_data):\n",
    "        return self.model.score(input_data)"
   ]
  },
  {
   "cell_type": "code",
   "execution_count": 4,
   "id": "4fd59f94",
   "metadata": {},
   "outputs": [
    {
     "name": "stdout",
     "output_type": "stream",
     "text": [
      "\n"
     ]
    }
   ],
   "source": [
    "hmm_models = []\n",
    "for dirname in os.listdir(input_folder):\n",
    "  # Get the name of the subfolder \n",
    "    subfolder = os.path.join(input_folder, dirname)\n",
    "    if not os.path.isdir(subfolder): \n",
    "        continue\n",
    "    # Extract the label\n",
    "    label = subfolder[subfolder.rfind('/') + 1:]\n",
    "    # Initialize variables\n",
    "    X = np.array([])\n",
    "    y_words = []\n",
    "    for filename in [x for x in os.listdir(subfolder) if x.endswith('.wav')][:-1]:\n",
    "    # Read the input file\n",
    "        try:\n",
    "            filepath = os.path.join(subfolder, filename)\n",
    "            y,sr = librosa.load(filepath, duration=3, offset=0.5)\n",
    "            mfcc_features = mfcc(y=y, sr=sr, n_mfcc=40)\n",
    "            # Extract MFCC features\n",
    "            if len(X) == 0:\n",
    "                X = mfcc_features[:,:15]\n",
    "            else:\n",
    "                X = np.append(X, mfcc_features[:,:15], axis=0)\n",
    "               # Append the label\n",
    "                y_words.append(label)\n",
    "        except:\n",
    "            continue\n",
    "    hmm_trainer = HMMTrainer()\n",
    "    hmm_trainer.train(X)\n",
    "    hmm_models.append((hmm_trainer, label))\n",
    "    hmm_trainer = None"
   ]
  },
  {
   "cell_type": "code",
   "execution_count": 5,
   "id": "1ccb401f",
   "metadata": {},
   "outputs": [],
   "source": [
    "input_files = [\n",
    "'./hmm-speech-recognition-0.1/audio/pineapple/pineapple15.wav',\n",
    "'./hmm-speech-recognition-0.1/audio/orange/orange15.wav',\n",
    "'./hmm-speech-recognition-0.1/audio/apple/apple15.wav',\n",
    "'./hmm-speech-recognition-0.1/audio/kiwi/kiwi15.wav'\n",
    "]"
   ]
  },
  {
   "cell_type": "code",
   "execution_count": 6,
   "id": "bb1b8a6a",
   "metadata": {},
   "outputs": [
    {
     "name": "stdout",
     "output_type": "stream",
     "text": [
      "Predicted: pineapple\n",
      "Predicted: orange\n",
      "Predicted: apple\n",
      "Predicted: kiwi\n"
     ]
    }
   ],
   "source": [
    "# Classify input data\n",
    "for input_file in input_files:\n",
    "    # Read input file\n",
    "    sampling_freq, audio = wavfile.read(input_file)\n",
    "    y,sr = librosa.load(filepath, duration=3, offset=0.5)\n",
    "    # Extract MFCC features\n",
    "    mfcc_features = mfcc(y=y, sr=sr, n_mfcc=40)\n",
    "\n",
    "    # Define variables\n",
    "    max_score = None\n",
    "    output_label = None\n",
    "\n",
    "    # Iterate through all HMM models and pick \n",
    "    # the one with the highest score\n",
    "    for item in hmm_models:\n",
    "        hmm_model, label = item\n",
    "        score = hmm_model.get_score(mfcc_features)\n",
    "        if score > max_score:\n",
    "            max_score = score\n",
    "            output_label = label\n",
    "        # Print the output\n",
    "        print (\"Predicted:\", output_label)"
   ]
  }
 ],
 "metadata": {
  "kernelspec": {
   "display_name": "Python 3 (ipykernel)",
   "language": "python",
   "name": "python3"
  },
  "language_info": {
   "codemirror_mode": {
    "name": "ipython",
    "version": 3
   },
   "file_extension": ".py",
   "mimetype": "text/x-python",
   "name": "python",
   "nbconvert_exporter": "python",
   "pygments_lexer": "ipython3",
   "version": "3.9.13"
  }
 },
 "nbformat": 4,
 "nbformat_minor": 5
}
